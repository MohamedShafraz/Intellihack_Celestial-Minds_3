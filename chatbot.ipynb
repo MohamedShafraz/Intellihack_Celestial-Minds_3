{
 "cells": [
  {
   "cell_type": "code",
   "execution_count": 11,
   "metadata": {},
   "outputs": [],
   "source": [
    "\n",
    "from unstructured.partition.pdf import partition_pdf\n",
    "from langchain.chat_models import ChatOpenAI\n",
    "from langchain.embeddings import OpenAIEmbeddings as fe\n",
    "from langchain.chains import LLMChain\n",
    "from langchain.prompts import PromptTemplate\n",
    "from langchain.vectorstores import FAISS\n",
    "from langchain_openai import OpenAIEmbeddings as pe\n",
    "from langchain_community.vectorstores import FAISS\n",
    "from langchain_core.runnables import RunnableLambda, RunnablePassthrough"
   ]
  },
  {
   "cell_type": "code",
   "execution_count": 12,
   "metadata": {},
   "outputs": [],
   "source": [
    "openai_api_key = {put_your_openai_api_key_here}"
   ]
  },
  {
   "cell_type": "code",
   "execution_count": 13,
   "metadata": {},
   "outputs": [],
   "source": [
    "prompt_template = \"\"\"\n",
    "You are financial analyst tasking with providing bank informations.\n",
    "Answer the question based only on the following context, which can include text and tables:\n",
    "{context}\n",
    "Question: {question}\n",
    "Just return the helpful answer in as much as detailed possible.\n",
    "Answer:\n",
    "\"\"\""
   ]
  },
  {
   "cell_type": "code",
   "execution_count": 14,
   "metadata": {},
   "outputs": [],
   "source": [
    "# loading faiss db\n",
    "embeddings = fe(openai_api_key=openai_api_key)\n",
    "# db = FAISS.load_local(\"faiss_index\", embeddings)\n",
    "db = FAISS.load_local(\"bank_data\", embeddings)"
   ]
  },
  {
   "cell_type": "code",
   "execution_count": 15,
   "metadata": {},
   "outputs": [],
   "source": [
    "qa_chain = LLMChain(llm=ChatOpenAI(model=\"gpt-4\", openai_api_key = openai_api_key, max_tokens=1024),\n",
    "                        prompt=PromptTemplate.from_template(prompt_template))"
   ]
  },
  {
   "cell_type": "code",
   "execution_count": 16,
   "metadata": {},
   "outputs": [],
   "source": [
    "def answer(question):\n",
    "    relevant_docs = db.similarity_search(question)\n",
    "    context = \"\"\n",
    "    for d in relevant_docs:\n",
    "        if d.metadata['type'] == 'text':\n",
    "            context += '[text]' + d.metadata['original_content']\n",
    "        elif d.metadata['type'] == 'table':\n",
    "            context += '[table]' + d.metadata['original_content']\n",
    "        \n",
    "    result = qa_chain.invoke({'context': context, 'question':  RunnablePassthrough()})\n",
    "    return result"
   ]
  },
  {
   "cell_type": "code",
   "execution_count": 17,
   "metadata": {},
   "outputs": [],
   "source": [
    "result =answer(\"tell me about how to apply house loans\")"
   ]
  },
  {
   "cell_type": "code",
   "execution_count": 18,
   "metadata": {},
   "outputs": [
    {
     "data": {
      "text/plain": [
       "\"Smart Bank offers five types of loan schemes:\\n\\n1. Overdraft Facilities: This is intended to manage cash flow at competitive interest rates. It's linked to a current account and allows users to use as much as they need up to their limit. The limit can be increased or decreased through internet banking. Interest is paid only on the amount used, not the full limit.\\n\\n2. Housing Loans: This includes several schemes such as purchasing land to construct a house, purchasing a house or partly constructed house, completing construction/renovation/extension/repair of an existing house, and construction of houses/apartments for sale. The maximum loan amount is Rs. 50 Million with a repayment period of 25 years. Eligibility includes being a Sri Lankan citizen above 18 years, should not be a defaulter of Smart Bank or any other financial institution, and can include professionals, permanent employees of government, private sector, self-employed, farmers, cultivators etc.\\n\\nThe rates of advance for housing loans depend on the purpose. For instance, purchasing land to construct a house later or purchasing a house/partly constructed house has a maximum advance of 75% of the reviewed market value or purchase price of the property, whichever is lesser. Constructing a house in a land owned by the borrower has a maximum advance of 90% of the BOQ. Completing construction/renovation/extension/repair of an existing house has an advance of 90% of the BOQ value. For construction of houses/apartments for sale, the maximum advance is 70% of the BOQ value.\\n\\n3. Education Loans\\n4. Pensioners’ Loans\\n5. Personal Loans\\n\\nFor the latter three types of loans, no further details are provided in the text.\""
      ]
     },
     "execution_count": 18,
     "metadata": {},
     "output_type": "execute_result"
    }
   ],
   "source": [
    "result['text']"
   ]
  }
 ],
 "metadata": {
  "kernelspec": {
   "display_name": "hackathon",
   "language": "python",
   "name": "python3"
  },
  "language_info": {
   "codemirror_mode": {
    "name": "ipython",
    "version": 3
   },
   "file_extension": ".py",
   "mimetype": "text/x-python",
   "name": "python",
   "nbconvert_exporter": "python",
   "pygments_lexer": "ipython3",
   "version": "3.10.12"
  }
 },
 "nbformat": 4,
 "nbformat_minor": 2
}
